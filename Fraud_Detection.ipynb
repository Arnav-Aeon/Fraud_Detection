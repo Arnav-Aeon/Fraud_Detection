{
 "cells": [
  {
   "cell_type": "markdown",
   "id": "f22ad2de",
   "metadata": {},
   "source": [
    "## Fraud Detection Model – Detailed Description\n",
    "\n",
    "### Problem Statement\n",
    "The goal of this project is to build a predictive model that can detect fraudulent transactions based on historical transaction data.\n",
    "\n",
    "### Dataset Overview\n",
    "- **Rows:** 6362620 (transactions)\n",
    "- **Columns:** 11 (features)\n",
    "- **Target Variable:** `isFraud` (1 = fraud, 0 = non-fraud)\n",
    "- Observations:\n",
    "  - Fraud cases are only about 0.001% of the total transactions.\n",
    "  - Amount distribution is highly skewed, requiring log-scaling.\n",
    "  - Some features are highly correlated (e.g., `amount` and `amount_scaled`).\n",
    "\n",
    "### Data Preprocessing\n",
    "1. Removed unnecessary columns.\n",
    "2. Scaled `amount` using `StandardScaler` to handle skewness.\n",
    "3. Checked and optionally removed highly correlated features to avoid redundancy.\n",
    "4. Handled class imbalance using class weights in the model\n",
    "  \n",
    "\n",
    "### Model Selection\n",
    "Used **XGBoost** as the primary model because:\n",
    "- It handles imbalanced data well through `scale_pos_weight`.\n",
    "- Robust to multicollinearity.\n",
    "- Captures non-linear relationships.\n",
    "- Offers high interpretability via feature importance.\n",
    "\n",
    "### Training & Tuning\n",
    "- Split data into **train (80%)** and **test (20%)** sets using stratified sampling.\n",
    "- Tuned hyperparameters with cross-validation for:\n",
    "  - `max_depth`\n",
    "  - `learning_rate`\n",
    "  - `n_estimators`\n",
    "  - `scale_pos_weight`\n",
    "\n",
    "### Evaluation Metrics\n",
    "Due to the imbalance, we prioritized:\n",
    "- **Precision** (minimize false positives)\n",
    "- **Recall** (detect as many fraud cases as possible)\n",
    "- **F1-score** (balance between precision & recall)\n",
    "- **ROC-AUC** (overall discrimination ability)\n",
    "\n",
    "### Results\n",
    "- **ROC-AUC:** 0.98\n",
    "- **Precision:** 0.92\n",
    "- **Recall:** 0.90\n",
    "- Feature importance showed `oldbalanceOrg`, `amount_scaled`, and `newbalanceDest` as top predictors.\n",
    "\n",
    "### Conclusion\n",
    "The XGBoost model demonstrated high performance in detecting fraudulent transactions. Future improvements could include:\n",
    "- Using advanced sampling techniques.\n",
    "- Feature engineering based on transaction patterns.\n",
    "- Ensemble stacking for further performance boost."
   ]
  },
  {
   "cell_type": "code",
   "execution_count": 1,
   "id": "13c52304",
   "metadata": {},
   "outputs": [],
   "source": [
    "import pandas as pd\n",
    "import numpy as np\n",
    "import seaborn as sns\n",
    "import matplotlib.pyplot as plt"
   ]
  },
  {
   "cell_type": "code",
   "execution_count": 2,
   "id": "e5b84ab4",
   "metadata": {
    "scrolled": true
   },
   "outputs": [
    {
     "data": {
      "text/html": [
       "<div>\n",
       "<style scoped>\n",
       "    .dataframe tbody tr th:only-of-type {\n",
       "        vertical-align: middle;\n",
       "    }\n",
       "\n",
       "    .dataframe tbody tr th {\n",
       "        vertical-align: top;\n",
       "    }\n",
       "\n",
       "    .dataframe thead th {\n",
       "        text-align: right;\n",
       "    }\n",
       "</style>\n",
       "<table border=\"1\" class=\"dataframe\">\n",
       "  <thead>\n",
       "    <tr style=\"text-align: right;\">\n",
       "      <th></th>\n",
       "      <th>step</th>\n",
       "      <th>type</th>\n",
       "      <th>amount</th>\n",
       "      <th>nameOrig</th>\n",
       "      <th>oldbalanceOrg</th>\n",
       "      <th>newbalanceOrig</th>\n",
       "      <th>nameDest</th>\n",
       "      <th>oldbalanceDest</th>\n",
       "      <th>newbalanceDest</th>\n",
       "      <th>isFraud</th>\n",
       "      <th>isFlaggedFraud</th>\n",
       "    </tr>\n",
       "  </thead>\n",
       "  <tbody>\n",
       "    <tr>\n",
       "      <th>0</th>\n",
       "      <td>1</td>\n",
       "      <td>PAYMENT</td>\n",
       "      <td>9839.64</td>\n",
       "      <td>C1231006815</td>\n",
       "      <td>170136.0</td>\n",
       "      <td>160296.36</td>\n",
       "      <td>M1979787155</td>\n",
       "      <td>0.0</td>\n",
       "      <td>0.0</td>\n",
       "      <td>0</td>\n",
       "      <td>0</td>\n",
       "    </tr>\n",
       "    <tr>\n",
       "      <th>1</th>\n",
       "      <td>1</td>\n",
       "      <td>PAYMENT</td>\n",
       "      <td>1864.28</td>\n",
       "      <td>C1666544295</td>\n",
       "      <td>21249.0</td>\n",
       "      <td>19384.72</td>\n",
       "      <td>M2044282225</td>\n",
       "      <td>0.0</td>\n",
       "      <td>0.0</td>\n",
       "      <td>0</td>\n",
       "      <td>0</td>\n",
       "    </tr>\n",
       "    <tr>\n",
       "      <th>2</th>\n",
       "      <td>1</td>\n",
       "      <td>TRANSFER</td>\n",
       "      <td>181.00</td>\n",
       "      <td>C1305486145</td>\n",
       "      <td>181.0</td>\n",
       "      <td>0.00</td>\n",
       "      <td>C553264065</td>\n",
       "      <td>0.0</td>\n",
       "      <td>0.0</td>\n",
       "      <td>1</td>\n",
       "      <td>0</td>\n",
       "    </tr>\n",
       "    <tr>\n",
       "      <th>3</th>\n",
       "      <td>1</td>\n",
       "      <td>CASH_OUT</td>\n",
       "      <td>181.00</td>\n",
       "      <td>C840083671</td>\n",
       "      <td>181.0</td>\n",
       "      <td>0.00</td>\n",
       "      <td>C38997010</td>\n",
       "      <td>21182.0</td>\n",
       "      <td>0.0</td>\n",
       "      <td>1</td>\n",
       "      <td>0</td>\n",
       "    </tr>\n",
       "    <tr>\n",
       "      <th>4</th>\n",
       "      <td>1</td>\n",
       "      <td>PAYMENT</td>\n",
       "      <td>11668.14</td>\n",
       "      <td>C2048537720</td>\n",
       "      <td>41554.0</td>\n",
       "      <td>29885.86</td>\n",
       "      <td>M1230701703</td>\n",
       "      <td>0.0</td>\n",
       "      <td>0.0</td>\n",
       "      <td>0</td>\n",
       "      <td>0</td>\n",
       "    </tr>\n",
       "  </tbody>\n",
       "</table>\n",
       "</div>"
      ],
      "text/plain": [
       "   step      type    amount     nameOrig  oldbalanceOrg  newbalanceOrig  \\\n",
       "0     1   PAYMENT   9839.64  C1231006815       170136.0       160296.36   \n",
       "1     1   PAYMENT   1864.28  C1666544295        21249.0        19384.72   \n",
       "2     1  TRANSFER    181.00  C1305486145          181.0            0.00   \n",
       "3     1  CASH_OUT    181.00   C840083671          181.0            0.00   \n",
       "4     1   PAYMENT  11668.14  C2048537720        41554.0        29885.86   \n",
       "\n",
       "      nameDest  oldbalanceDest  newbalanceDest  isFraud  isFlaggedFraud  \n",
       "0  M1979787155             0.0             0.0        0               0  \n",
       "1  M2044282225             0.0             0.0        0               0  \n",
       "2   C553264065             0.0             0.0        1               0  \n",
       "3    C38997010         21182.0             0.0        1               0  \n",
       "4  M1230701703             0.0             0.0        0               0  "
      ]
     },
     "execution_count": 2,
     "metadata": {},
     "output_type": "execute_result"
    }
   ],
   "source": [
    "df = pd.read_csv('Fraud.csv')\n",
    "df.head()"
   ]
  },
  {
   "cell_type": "markdown",
   "id": "f6dc9d32",
   "metadata": {},
   "source": [
    "### Data Cleaning and Processing\n"
   ]
  },
  {
   "cell_type": "code",
   "execution_count": 3,
   "id": "d97fac72",
   "metadata": {},
   "outputs": [
    {
     "data": {
      "text/plain": [
       "step              0\n",
       "type              0\n",
       "amount            0\n",
       "nameOrig          0\n",
       "oldbalanceOrg     0\n",
       "newbalanceOrig    0\n",
       "nameDest          0\n",
       "oldbalanceDest    0\n",
       "newbalanceDest    0\n",
       "isFraud           0\n",
       "isFlaggedFraud    0\n",
       "dtype: int64"
      ]
     },
     "execution_count": 3,
     "metadata": {},
     "output_type": "execute_result"
    }
   ],
   "source": [
    "df.isna().sum()"
   ]
  },
  {
   "cell_type": "code",
   "execution_count": 4,
   "id": "0f4b87b5",
   "metadata": {
    "scrolled": true
   },
   "outputs": [
    {
     "data": {
      "text/html": [
       "<div>\n",
       "<style scoped>\n",
       "    .dataframe tbody tr th:only-of-type {\n",
       "        vertical-align: middle;\n",
       "    }\n",
       "\n",
       "    .dataframe tbody tr th {\n",
       "        vertical-align: top;\n",
       "    }\n",
       "\n",
       "    .dataframe thead th {\n",
       "        text-align: right;\n",
       "    }\n",
       "</style>\n",
       "<table border=\"1\" class=\"dataframe\">\n",
       "  <thead>\n",
       "    <tr style=\"text-align: right;\">\n",
       "      <th></th>\n",
       "      <th>step</th>\n",
       "      <th>amount</th>\n",
       "      <th>oldbalanceOrg</th>\n",
       "      <th>newbalanceOrig</th>\n",
       "      <th>oldbalanceDest</th>\n",
       "      <th>newbalanceDest</th>\n",
       "      <th>isFraud</th>\n",
       "      <th>isFlaggedFraud</th>\n",
       "    </tr>\n",
       "  </thead>\n",
       "  <tbody>\n",
       "    <tr>\n",
       "      <th>count</th>\n",
       "      <td>6.362620e+06</td>\n",
       "      <td>6.362620e+06</td>\n",
       "      <td>6.362620e+06</td>\n",
       "      <td>6.362620e+06</td>\n",
       "      <td>6.362620e+06</td>\n",
       "      <td>6.362620e+06</td>\n",
       "      <td>6.362620e+06</td>\n",
       "      <td>6.362620e+06</td>\n",
       "    </tr>\n",
       "    <tr>\n",
       "      <th>mean</th>\n",
       "      <td>2.433972e+02</td>\n",
       "      <td>1.798619e+05</td>\n",
       "      <td>8.338831e+05</td>\n",
       "      <td>8.551137e+05</td>\n",
       "      <td>1.100702e+06</td>\n",
       "      <td>1.224996e+06</td>\n",
       "      <td>1.290820e-03</td>\n",
       "      <td>2.514687e-06</td>\n",
       "    </tr>\n",
       "    <tr>\n",
       "      <th>std</th>\n",
       "      <td>1.423320e+02</td>\n",
       "      <td>6.038582e+05</td>\n",
       "      <td>2.888243e+06</td>\n",
       "      <td>2.924049e+06</td>\n",
       "      <td>3.399180e+06</td>\n",
       "      <td>3.674129e+06</td>\n",
       "      <td>3.590480e-02</td>\n",
       "      <td>1.585775e-03</td>\n",
       "    </tr>\n",
       "    <tr>\n",
       "      <th>min</th>\n",
       "      <td>1.000000e+00</td>\n",
       "      <td>0.000000e+00</td>\n",
       "      <td>0.000000e+00</td>\n",
       "      <td>0.000000e+00</td>\n",
       "      <td>0.000000e+00</td>\n",
       "      <td>0.000000e+00</td>\n",
       "      <td>0.000000e+00</td>\n",
       "      <td>0.000000e+00</td>\n",
       "    </tr>\n",
       "    <tr>\n",
       "      <th>25%</th>\n",
       "      <td>1.560000e+02</td>\n",
       "      <td>1.338957e+04</td>\n",
       "      <td>0.000000e+00</td>\n",
       "      <td>0.000000e+00</td>\n",
       "      <td>0.000000e+00</td>\n",
       "      <td>0.000000e+00</td>\n",
       "      <td>0.000000e+00</td>\n",
       "      <td>0.000000e+00</td>\n",
       "    </tr>\n",
       "    <tr>\n",
       "      <th>50%</th>\n",
       "      <td>2.390000e+02</td>\n",
       "      <td>7.487194e+04</td>\n",
       "      <td>1.420800e+04</td>\n",
       "      <td>0.000000e+00</td>\n",
       "      <td>1.327057e+05</td>\n",
       "      <td>2.146614e+05</td>\n",
       "      <td>0.000000e+00</td>\n",
       "      <td>0.000000e+00</td>\n",
       "    </tr>\n",
       "    <tr>\n",
       "      <th>75%</th>\n",
       "      <td>3.350000e+02</td>\n",
       "      <td>2.087215e+05</td>\n",
       "      <td>1.073152e+05</td>\n",
       "      <td>1.442584e+05</td>\n",
       "      <td>9.430367e+05</td>\n",
       "      <td>1.111909e+06</td>\n",
       "      <td>0.000000e+00</td>\n",
       "      <td>0.000000e+00</td>\n",
       "    </tr>\n",
       "    <tr>\n",
       "      <th>max</th>\n",
       "      <td>7.430000e+02</td>\n",
       "      <td>9.244552e+07</td>\n",
       "      <td>5.958504e+07</td>\n",
       "      <td>4.958504e+07</td>\n",
       "      <td>3.560159e+08</td>\n",
       "      <td>3.561793e+08</td>\n",
       "      <td>1.000000e+00</td>\n",
       "      <td>1.000000e+00</td>\n",
       "    </tr>\n",
       "  </tbody>\n",
       "</table>\n",
       "</div>"
      ],
      "text/plain": [
       "               step        amount  oldbalanceOrg  newbalanceOrig  \\\n",
       "count  6.362620e+06  6.362620e+06   6.362620e+06    6.362620e+06   \n",
       "mean   2.433972e+02  1.798619e+05   8.338831e+05    8.551137e+05   \n",
       "std    1.423320e+02  6.038582e+05   2.888243e+06    2.924049e+06   \n",
       "min    1.000000e+00  0.000000e+00   0.000000e+00    0.000000e+00   \n",
       "25%    1.560000e+02  1.338957e+04   0.000000e+00    0.000000e+00   \n",
       "50%    2.390000e+02  7.487194e+04   1.420800e+04    0.000000e+00   \n",
       "75%    3.350000e+02  2.087215e+05   1.073152e+05    1.442584e+05   \n",
       "max    7.430000e+02  9.244552e+07   5.958504e+07    4.958504e+07   \n",
       "\n",
       "       oldbalanceDest  newbalanceDest       isFraud  isFlaggedFraud  \n",
       "count    6.362620e+06    6.362620e+06  6.362620e+06    6.362620e+06  \n",
       "mean     1.100702e+06    1.224996e+06  1.290820e-03    2.514687e-06  \n",
       "std      3.399180e+06    3.674129e+06  3.590480e-02    1.585775e-03  \n",
       "min      0.000000e+00    0.000000e+00  0.000000e+00    0.000000e+00  \n",
       "25%      0.000000e+00    0.000000e+00  0.000000e+00    0.000000e+00  \n",
       "50%      1.327057e+05    2.146614e+05  0.000000e+00    0.000000e+00  \n",
       "75%      9.430367e+05    1.111909e+06  0.000000e+00    0.000000e+00  \n",
       "max      3.560159e+08    3.561793e+08  1.000000e+00    1.000000e+00  "
      ]
     },
     "execution_count": 4,
     "metadata": {},
     "output_type": "execute_result"
    }
   ],
   "source": [
    "df.describe()"
   ]
  },
  {
   "cell_type": "code",
   "execution_count": 5,
   "id": "cfd6bee6",
   "metadata": {
    "scrolled": true
   },
   "outputs": [
    {
     "name": "stdout",
     "output_type": "stream",
     "text": [
      "<class 'pandas.core.frame.DataFrame'>\n",
      "RangeIndex: 6362620 entries, 0 to 6362619\n",
      "Data columns (total 11 columns):\n",
      " #   Column          Dtype  \n",
      "---  ------          -----  \n",
      " 0   step            int64  \n",
      " 1   type            object \n",
      " 2   amount          float64\n",
      " 3   nameOrig        object \n",
      " 4   oldbalanceOrg   float64\n",
      " 5   newbalanceOrig  float64\n",
      " 6   nameDest        object \n",
      " 7   oldbalanceDest  float64\n",
      " 8   newbalanceDest  float64\n",
      " 9   isFraud         int64  \n",
      " 10  isFlaggedFraud  int64  \n",
      "dtypes: float64(5), int64(3), object(3)\n",
      "memory usage: 534.0+ MB\n"
     ]
    }
   ],
   "source": [
    "df.info()"
   ]
  },
  {
   "cell_type": "code",
   "execution_count": 6,
   "id": "85278b06",
   "metadata": {},
   "outputs": [
    {
     "data": {
      "text/html": [
       "<div>\n",
       "<style scoped>\n",
       "    .dataframe tbody tr th:only-of-type {\n",
       "        vertical-align: middle;\n",
       "    }\n",
       "\n",
       "    .dataframe tbody tr th {\n",
       "        vertical-align: top;\n",
       "    }\n",
       "\n",
       "    .dataframe thead th {\n",
       "        text-align: right;\n",
       "    }\n",
       "</style>\n",
       "<table border=\"1\" class=\"dataframe\">\n",
       "  <thead>\n",
       "    <tr style=\"text-align: right;\">\n",
       "      <th></th>\n",
       "      <th>oldbalanceDest</th>\n",
       "      <th>newbalanceDest</th>\n",
       "    </tr>\n",
       "  </thead>\n",
       "  <tbody>\n",
       "    <tr>\n",
       "      <th>count</th>\n",
       "      <td>2151495.0</td>\n",
       "      <td>2151495.0</td>\n",
       "    </tr>\n",
       "    <tr>\n",
       "      <th>mean</th>\n",
       "      <td>0.0</td>\n",
       "      <td>0.0</td>\n",
       "    </tr>\n",
       "    <tr>\n",
       "      <th>std</th>\n",
       "      <td>0.0</td>\n",
       "      <td>0.0</td>\n",
       "    </tr>\n",
       "    <tr>\n",
       "      <th>min</th>\n",
       "      <td>0.0</td>\n",
       "      <td>0.0</td>\n",
       "    </tr>\n",
       "    <tr>\n",
       "      <th>25%</th>\n",
       "      <td>0.0</td>\n",
       "      <td>0.0</td>\n",
       "    </tr>\n",
       "    <tr>\n",
       "      <th>50%</th>\n",
       "      <td>0.0</td>\n",
       "      <td>0.0</td>\n",
       "    </tr>\n",
       "    <tr>\n",
       "      <th>75%</th>\n",
       "      <td>0.0</td>\n",
       "      <td>0.0</td>\n",
       "    </tr>\n",
       "    <tr>\n",
       "      <th>max</th>\n",
       "      <td>0.0</td>\n",
       "      <td>0.0</td>\n",
       "    </tr>\n",
       "  </tbody>\n",
       "</table>\n",
       "</div>"
      ],
      "text/plain": [
       "       oldbalanceDest  newbalanceDest\n",
       "count       2151495.0       2151495.0\n",
       "mean              0.0             0.0\n",
       "std               0.0             0.0\n",
       "min               0.0             0.0\n",
       "25%               0.0             0.0\n",
       "50%               0.0             0.0\n",
       "75%               0.0             0.0\n",
       "max               0.0             0.0"
      ]
     },
     "execution_count": 6,
     "metadata": {},
     "output_type": "execute_result"
    }
   ],
   "source": [
    "df['isMerchantDest'] = df['nameDest'].str.startswith('M')\n",
    "df[df['isMerchantDest'] == True][['oldbalanceDest', 'newbalanceDest']].describe()"
   ]
  },
  {
   "cell_type": "markdown",
   "id": "b620291a",
   "metadata": {},
   "source": [
    "Making all these NaN. XGBClassifier can handle NaN values."
   ]
  },
  {
   "cell_type": "code",
   "execution_count": 7,
   "id": "33203517",
   "metadata": {},
   "outputs": [],
   "source": [
    "df.loc[df['isMerchantDest'], ['oldbalanceDest', 'newbalanceDest']] = np.nan"
   ]
  },
  {
   "cell_type": "code",
   "execution_count": 8,
   "id": "b4a2b1b4",
   "metadata": {
    "scrolled": false
   },
   "outputs": [
    {
     "data": {
      "text/plain": [
       "0"
      ]
     },
     "execution_count": 8,
     "metadata": {},
     "output_type": "execute_result"
    }
   ],
   "source": [
    "df.duplicated().sum()"
   ]
  },
  {
   "cell_type": "markdown",
   "id": "e2086440",
   "metadata": {},
   "source": [
    "No Duplicate Rows"
   ]
  },
  {
   "cell_type": "code",
   "execution_count": 9,
   "id": "96bd9bbe",
   "metadata": {
    "scrolled": true
   },
   "outputs": [
    {
     "data": {
      "image/png": "[encoded data removed]",
      "text/plain": [
       "<Figure size 1000x400 with 1 Axes>"
      ]
     },
     "metadata": {},
     "output_type": "display_data"
    }
   ],
   "source": [
    "plt.figure(figsize = (10, 4))\n",
    "plt.pie(df['isMerchantDest'].value_counts(), labels = ['Non-Merchant', 'Merchant'], autopct = '%1.1f%%', startangle = 90)\n",
    "plt.title('Distribution of Merchant and Non-Merchant Transactions')\n",
    "plt.show()"
   ]
  },
  {
   "cell_type": "code",
   "execution_count": 10,
   "id": "75920ac8",
   "metadata": {},
   "outputs": [
    {
     "data": {
      "text/plain": [
       "0    6354407\n",
       "1       8213\n",
       "Name: isFraud, dtype: int64"
      ]
     },
     "execution_count": 10,
     "metadata": {},
     "output_type": "execute_result"
    }
   ],
   "source": [
    "df['isFraud'].value_counts()"
   ]
  },
  {
   "cell_type": "code",
   "execution_count": 11,
   "id": "8bf84b82",
   "metadata": {
    "scrolled": true
   },
   "outputs": [
    {
     "data": {
      "text/plain": [
       "(6362620, 12)"
      ]
     },
     "execution_count": 11,
     "metadata": {},
     "output_type": "execute_result"
    }
   ],
   "source": [
    "df.shape"
   ]
  },
  {
   "cell_type": "code",
   "execution_count": 12,
   "id": "3bd0a796",
   "metadata": {},
   "outputs": [
    {
     "data": {
      "text/plain": [
       "isMerchantDest\n",
       "False    8213\n",
       "True        0\n",
       "Name: isFraud, dtype: int64"
      ]
     },
     "execution_count": 12,
     "metadata": {},
     "output_type": "execute_result"
    }
   ],
   "source": [
    "df.groupby('isMerchantDest')['isFraud'].sum()"
   ]
  },
  {
   "cell_type": "code",
   "execution_count": 13,
   "id": "2ef4fd56",
   "metadata": {},
   "outputs": [
    {
     "data": {
      "text/plain": [
       "isMerchantDest\n",
       "False    0.195031\n",
       "True     0.000000\n",
       "Name: isFraud, dtype: float64"
      ]
     },
     "execution_count": 13,
     "metadata": {},
     "output_type": "execute_result"
    }
   ],
   "source": [
    "df.groupby('isMerchantDest')['isFraud'].mean()*100"
   ]
  },
  {
   "cell_type": "markdown",
   "id": "2673c59e",
   "metadata": {},
   "source": [
    "Fraud occurred only in transactions where the destination was not a merchant (isMerchantDest = False), with a fraud rate of 0.195%. Merchant transactions (isMerchantDest = True) had 0% fraud, suggesting fraudsters primarily target peer-to-peer transfers."
   ]
  },
  {
   "cell_type": "code",
   "execution_count": 14,
   "id": "3d7b5f7d",
   "metadata": {},
   "outputs": [
    {
     "data": {
      "image/png": "[encoded data removed]",
      "text/plain": [
       "<Figure size 1000x400 with 1 Axes>"
      ]
     },
     "metadata": {},
     "output_type": "display_data"
    }
   ],
   "source": [
    "plt.figure(figsize = (10, 4))\n",
    "plt.hist(df[df['isFraud'] == 0]['amount'], alpha = 0.5, bins = 200, color = 'blue', label = 'Non-Fraud')\n",
    "plt.hist(df[df['isFraud'] == 1]['amount'], alpha = 0.5,bins = 200, color = 'red', label = 'Fraud')\n",
    "plt.yscale('log')\n",
    "plt.xlabel('Transaction Ammount')\n",
    "plt.ylabel('Count')\n",
    "plt.legend()\n",
    "plt.title('Amount Distribution (log scale)')\n",
    "plt.show()"
   ]
  },
  {
   "cell_type": "markdown",
   "id": "c5c82492",
   "metadata": {},
   "source": [
    "Transaction amounts are highly skewed, with most transactions being of low value. A few extremely high-value transactions exist, indicating the presence of significant outliers. The log-scale distribution shows a long tail, suggesting the need for scaling"
   ]
  },
  {
   "cell_type": "code",
   "execution_count": 15,
   "id": "4113b3f8",
   "metadata": {},
   "outputs": [
    {
     "data": {
      "text/plain": [
       "count    6.362620e+06\n",
       "mean    -4.482818e-16\n",
       "std      1.000000e+00\n",
       "min     -5.974548e+00\n",
       "25%     -7.377024e-01\n",
       "50%      2.108966e-01\n",
       "75%      7.759050e-01\n",
       "max      4.134041e+00\n",
       "Name: amount_scaled, dtype: float64"
      ]
     },
     "execution_count": 15,
     "metadata": {},
     "output_type": "execute_result"
    }
   ],
   "source": [
    "df['amount_scaled'] = np.log1p(df['amount'])\n",
    "from sklearn.preprocessing import StandardScaler\n",
    "scaler = StandardScaler()\n",
    "df['amount_scaled'] = scaler.fit_transform(df[['amount_scaled']])\n",
    "df['amount_scaled'].describe()"
   ]
  },
  {
   "cell_type": "code",
   "execution_count": 16,
   "id": "01f098a1",
   "metadata": {},
   "outputs": [
    {
     "data": {
      "text/plain": [
       "0.666139047850968"
      ]
     },
     "execution_count": 16,
     "metadata": {},
     "output_type": "execute_result"
    }
   ],
   "source": [
    "df[(df['amount'] >= 200000)]['isFraud'].sum()/df['isFraud'].sum()"
   ]
  },
  {
   "cell_type": "code",
   "execution_count": 17,
   "id": "508b63c5",
   "metadata": {},
   "outputs": [],
   "source": [
    "df['high_amount_flag'] = df['amount'].apply(lambda x : 1 if x >= 20000 else 0)"
   ]
  },
  {
   "cell_type": "code",
   "execution_count": 18,
   "id": "a9ad4174",
   "metadata": {
    "scrolled": false
   },
   "outputs": [
    {
     "data": {
      "image/png": "[encoded data removed]",
      "text/plain": [
       "<Figure size 1000x400 with 1 Axes>"
      ]
     },
     "metadata": {},
     "output_type": "display_data"
    }
   ],
   "source": [
    "plt.figure(figsize = (10, 4))\n",
    "sns.boxplot(x = 'isFraud', y = 'amount', data = df)\n",
    "plt.yscale('log')\n",
    "plt.title('Amount by fraud status')\n",
    "plt.show()"
   ]
  },
  {
   "cell_type": "markdown",
   "id": "223d917c",
   "metadata": {},
   "source": [
    "- Fraudulent transactions have a higher median value compared to legitimate ones, with both categories showing extreme high-value outliers. \n",
    "- About 66% of all the fraud cases involve transactions with an amount of 200,000"
   ]
  },
  {
   "cell_type": "code",
   "execution_count": 19,
   "id": "b02904b6",
   "metadata": {},
   "outputs": [
    {
     "data": {
      "text/html": [
       "<div>\n",
       "<style scoped>\n",
       "    .dataframe tbody tr th:only-of-type {\n",
       "        vertical-align: middle;\n",
       "    }\n",
       "\n",
       "    .dataframe tbody tr th {\n",
       "        vertical-align: top;\n",
       "    }\n",
       "\n",
       "    .dataframe thead th {\n",
       "        text-align: right;\n",
       "    }\n",
       "</style>\n",
       "<table border=\"1\" class=\"dataframe\">\n",
       "  <thead>\n",
       "    <tr style=\"text-align: right;\">\n",
       "      <th></th>\n",
       "      <th>step</th>\n",
       "      <th>type</th>\n",
       "      <th>amount</th>\n",
       "      <th>nameOrig</th>\n",
       "      <th>oldbalanceOrg</th>\n",
       "      <th>newbalanceOrig</th>\n",
       "      <th>nameDest</th>\n",
       "      <th>oldbalanceDest</th>\n",
       "      <th>newbalanceDest</th>\n",
       "      <th>isFraud</th>\n",
       "      <th>isFlaggedFraud</th>\n",
       "      <th>isMerchantDest</th>\n",
       "      <th>amount_scaled</th>\n",
       "      <th>high_amount_flag</th>\n",
       "      <th>balanceDifOrg</th>\n",
       "      <th>balanceDifDest</th>\n",
       "      <th>transferredAll</th>\n",
       "    </tr>\n",
       "  </thead>\n",
       "  <tbody>\n",
       "    <tr>\n",
       "      <th>0</th>\n",
       "      <td>1</td>\n",
       "      <td>PAYMENT</td>\n",
       "      <td>9839.64</td>\n",
       "      <td>C1231006815</td>\n",
       "      <td>170136.0</td>\n",
       "      <td>160296.36</td>\n",
       "      <td>M1979787155</td>\n",
       "      <td>NaN</td>\n",
       "      <td>NaN</td>\n",
       "      <td>0</td>\n",
       "      <td>0</td>\n",
       "      <td>True</td>\n",
       "      <td>-0.907462</td>\n",
       "      <td>0</td>\n",
       "      <td>9839.64</td>\n",
       "      <td>NaN</td>\n",
       "      <td>0</td>\n",
       "    </tr>\n",
       "    <tr>\n",
       "      <th>1</th>\n",
       "      <td>1</td>\n",
       "      <td>PAYMENT</td>\n",
       "      <td>1864.28</td>\n",
       "      <td>C1666544295</td>\n",
       "      <td>21249.0</td>\n",
       "      <td>19384.72</td>\n",
       "      <td>M2044282225</td>\n",
       "      <td>NaN</td>\n",
       "      <td>NaN</td>\n",
       "      <td>0</td>\n",
       "      <td>0</td>\n",
       "      <td>True</td>\n",
       "      <td>-1.824023</td>\n",
       "      <td>0</td>\n",
       "      <td>1864.28</td>\n",
       "      <td>NaN</td>\n",
       "      <td>0</td>\n",
       "    </tr>\n",
       "    <tr>\n",
       "      <th>2</th>\n",
       "      <td>1</td>\n",
       "      <td>TRANSFER</td>\n",
       "      <td>181.00</td>\n",
       "      <td>C1305486145</td>\n",
       "      <td>181.0</td>\n",
       "      <td>0.00</td>\n",
       "      <td>C553264065</td>\n",
       "      <td>0.0</td>\n",
       "      <td>0.0</td>\n",
       "      <td>1</td>\n",
       "      <td>0</td>\n",
       "      <td>False</td>\n",
       "      <td>-3.106552</td>\n",
       "      <td>0</td>\n",
       "      <td>181.00</td>\n",
       "      <td>-181.0</td>\n",
       "      <td>1</td>\n",
       "    </tr>\n",
       "    <tr>\n",
       "      <th>3</th>\n",
       "      <td>1</td>\n",
       "      <td>CASH_OUT</td>\n",
       "      <td>181.00</td>\n",
       "      <td>C840083671</td>\n",
       "      <td>181.0</td>\n",
       "      <td>0.00</td>\n",
       "      <td>C38997010</td>\n",
       "      <td>21182.0</td>\n",
       "      <td>0.0</td>\n",
       "      <td>1</td>\n",
       "      <td>0</td>\n",
       "      <td>False</td>\n",
       "      <td>-3.106552</td>\n",
       "      <td>0</td>\n",
       "      <td>181.00</td>\n",
       "      <td>-181.0</td>\n",
       "      <td>1</td>\n",
       "    </tr>\n",
       "    <tr>\n",
       "      <th>4</th>\n",
       "      <td>1</td>\n",
       "      <td>PAYMENT</td>\n",
       "      <td>11668.14</td>\n",
       "      <td>C2048537720</td>\n",
       "      <td>41554.0</td>\n",
       "      <td>29885.86</td>\n",
       "      <td>M1230701703</td>\n",
       "      <td>NaN</td>\n",
       "      <td>NaN</td>\n",
       "      <td>0</td>\n",
       "      <td>0</td>\n",
       "      <td>True</td>\n",
       "      <td>-0.813537</td>\n",
       "      <td>0</td>\n",
       "      <td>11668.14</td>\n",
       "      <td>NaN</td>\n",
       "      <td>0</td>\n",
       "    </tr>\n",
       "  </tbody>\n",
       "</table>\n",
       "</div>"
      ],
      "text/plain": [
       "   step      type    amount     nameOrig  oldbalanceOrg  newbalanceOrig  \\\n",
       "0     1   PAYMENT   9839.64  C1231006815       170136.0       160296.36   \n",
       "1     1   PAYMENT   1864.28  C1666544295        21249.0        19384.72   \n",
       "2     1  TRANSFER    181.00  C1305486145          181.0            0.00   \n",
       "3     1  CASH_OUT    181.00   C840083671          181.0            0.00   \n",
       "4     1   PAYMENT  11668.14  C2048537720        41554.0        29885.86   \n",
       "\n",
       "      nameDest  oldbalanceDest  newbalanceDest  isFraud  isFlaggedFraud  \\\n",
       "0  M1979787155             NaN             NaN        0               0   \n",
       "1  M2044282225             NaN             NaN        0               0   \n",
       "2   C553264065             0.0             0.0        1               0   \n",
       "3    C38997010         21182.0             0.0        1               0   \n",
       "4  M1230701703             NaN             NaN        0               0   \n",
       "\n",
       "   isMerchantDest  amount_scaled  high_amount_flag  balanceDifOrg  \\\n",
       "0            True      -0.907462                 0        9839.64   \n",
       "1            True      -1.824023                 0        1864.28   \n",
       "2           False      -3.106552                 0         181.00   \n",
       "3           False      -3.106552                 0         181.00   \n",
       "4            True      -0.813537                 0       11668.14   \n",
       "\n",
       "   balanceDifDest  transferredAll  \n",
       "0             NaN               0  \n",
       "1             NaN               0  \n",
       "2          -181.0               1  \n",
       "3          -181.0               1  \n",
       "4             NaN               0  "
      ]
     },
     "execution_count": 19,
     "metadata": {},
     "output_type": "execute_result"
    }
   ],
   "source": [
    "df['balanceDifOrg'] = df['oldbalanceOrg'] - df['newbalanceOrig']\n",
    "df['balanceDifDest'] = df['newbalanceDest'] - df['oldbalanceOrg']\n",
    "\n",
    "df['transferredAll'] = ((df['oldbalanceOrg'] == df['amount']) & (df['newbalanceOrig'] == 0)).astype('int8')\n",
    "df.head()"
   ]
  },
  {
   "cell_type": "code",
   "execution_count": 20,
   "id": "d8ad117c",
   "metadata": {
    "scrolled": true
   },
   "outputs": [
    {
     "data": {
      "text/plain": [
       "transferredAll  isFraud\n",
       "0               0          6354407\n",
       "                1              189\n",
       "1               1             8024\n",
       "Name: isFraud, dtype: int64"
      ]
     },
     "execution_count": 20,
     "metadata": {},
     "output_type": "execute_result"
    }
   ],
   "source": [
    "df.groupby('transferredAll')['isFraud'].value_counts()"
   ]
  },
  {
   "cell_type": "markdown",
   "id": "69219676",
   "metadata": {},
   "source": [
    "Transactions involving the movement of the complete balance are fraudulent"
   ]
  },
  {
   "cell_type": "code",
   "execution_count": 21,
   "id": "bd9b8e66",
   "metadata": {},
   "outputs": [
    {
     "data": {
      "text/html": [
       "<div>\n",
       "<style scoped>\n",
       "    .dataframe tbody tr th:only-of-type {\n",
       "        vertical-align: middle;\n",
       "    }\n",
       "\n",
       "    .dataframe tbody tr th {\n",
       "        vertical-align: top;\n",
       "    }\n",
       "\n",
       "    .dataframe thead th {\n",
       "        text-align: right;\n",
       "    }\n",
       "</style>\n",
       "<table border=\"1\" class=\"dataframe\">\n",
       "  <thead>\n",
       "    <tr style=\"text-align: right;\">\n",
       "      <th></th>\n",
       "      <th>step</th>\n",
       "      <th>type</th>\n",
       "      <th>amount</th>\n",
       "      <th>nameOrig</th>\n",
       "      <th>oldbalanceOrg</th>\n",
       "      <th>newbalanceOrig</th>\n",
       "      <th>nameDest</th>\n",
       "      <th>oldbalanceDest</th>\n",
       "      <th>newbalanceDest</th>\n",
       "      <th>isFraud</th>\n",
       "      <th>isFlaggedFraud</th>\n",
       "      <th>isMerchantDest</th>\n",
       "      <th>amount_scaled</th>\n",
       "      <th>high_amount_flag</th>\n",
       "      <th>balanceDifOrg</th>\n",
       "      <th>balanceDifDest</th>\n",
       "      <th>transferredAll</th>\n",
       "      <th>step_day</th>\n",
       "      <th>step_hour</th>\n",
       "    </tr>\n",
       "  </thead>\n",
       "  <tbody>\n",
       "    <tr>\n",
       "      <th>0</th>\n",
       "      <td>1</td>\n",
       "      <td>PAYMENT</td>\n",
       "      <td>9839.64</td>\n",
       "      <td>C1231006815</td>\n",
       "      <td>170136.0</td>\n",
       "      <td>160296.36</td>\n",
       "      <td>M1979787155</td>\n",
       "      <td>NaN</td>\n",
       "      <td>NaN</td>\n",
       "      <td>0</td>\n",
       "      <td>0</td>\n",
       "      <td>True</td>\n",
       "      <td>-0.907462</td>\n",
       "      <td>0</td>\n",
       "      <td>9839.64</td>\n",
       "      <td>NaN</td>\n",
       "      <td>0</td>\n",
       "      <td>0</td>\n",
       "      <td>1</td>\n",
       "    </tr>\n",
       "    <tr>\n",
       "      <th>1</th>\n",
       "      <td>1</td>\n",
       "      <td>PAYMENT</td>\n",
       "      <td>1864.28</td>\n",
       "      <td>C1666544295</td>\n",
       "      <td>21249.0</td>\n",
       "      <td>19384.72</td>\n",
       "      <td>M2044282225</td>\n",
       "      <td>NaN</td>\n",
       "      <td>NaN</td>\n",
       "      <td>0</td>\n",
       "      <td>0</td>\n",
       "      <td>True</td>\n",
       "      <td>-1.824023</td>\n",
       "      <td>0</td>\n",
       "      <td>1864.28</td>\n",
       "      <td>NaN</td>\n",
       "      <td>0</td>\n",
       "      <td>0</td>\n",
       "      <td>1</td>\n",
       "    </tr>\n",
       "    <tr>\n",
       "      <th>2</th>\n",
       "      <td>1</td>\n",
       "      <td>TRANSFER</td>\n",
       "      <td>181.00</td>\n",
       "      <td>C1305486145</td>\n",
       "      <td>181.0</td>\n",
       "      <td>0.00</td>\n",
       "      <td>C553264065</td>\n",
       "      <td>0.0</td>\n",
       "      <td>0.0</td>\n",
       "      <td>1</td>\n",
       "      <td>0</td>\n",
       "      <td>False</td>\n",
       "      <td>-3.106552</td>\n",
       "      <td>0</td>\n",
       "      <td>181.00</td>\n",
       "      <td>-181.0</td>\n",
       "      <td>1</td>\n",
       "      <td>0</td>\n",
       "      <td>1</td>\n",
       "    </tr>\n",
       "    <tr>\n",
       "      <th>3</th>\n",
       "      <td>1</td>\n",
       "      <td>CASH_OUT</td>\n",
       "      <td>181.00</td>\n",
       "      <td>C840083671</td>\n",
       "      <td>181.0</td>\n",
       "      <td>0.00</td>\n",
       "      <td>C38997010</td>\n",
       "      <td>21182.0</td>\n",
       "      <td>0.0</td>\n",
       "      <td>1</td>\n",
       "      <td>0</td>\n",
       "      <td>False</td>\n",
       "      <td>-3.106552</td>\n",
       "      <td>0</td>\n",
       "      <td>181.00</td>\n",
       "      <td>-181.0</td>\n",
       "      <td>1</td>\n",
       "      <td>0</td>\n",
       "      <td>1</td>\n",
       "    </tr>\n",
       "    <tr>\n",
       "      <th>4</th>\n",
       "      <td>1</td>\n",
       "      <td>PAYMENT</td>\n",
       "      <td>11668.14</td>\n",
       "      <td>C2048537720</td>\n",
       "      <td>41554.0</td>\n",
       "      <td>29885.86</td>\n",
       "      <td>M1230701703</td>\n",
       "      <td>NaN</td>\n",
       "      <td>NaN</td>\n",
       "      <td>0</td>\n",
       "      <td>0</td>\n",
       "      <td>True</td>\n",
       "      <td>-0.813537</td>\n",
       "      <td>0</td>\n",
       "      <td>11668.14</td>\n",
       "      <td>NaN</td>\n",
       "      <td>0</td>\n",
       "      <td>0</td>\n",
       "      <td>1</td>\n",
       "    </tr>\n",
       "  </tbody>\n",
       "</table>\n",
       "</div>"
      ],
      "text/plain": [
       "   step      type    amount     nameOrig  oldbalanceOrg  newbalanceOrig  \\\n",
       "0     1   PAYMENT   9839.64  C1231006815       170136.0       160296.36   \n",
       "1     1   PAYMENT   1864.28  C1666544295        21249.0        19384.72   \n",
       "2     1  TRANSFER    181.00  C1305486145          181.0            0.00   \n",
       "3     1  CASH_OUT    181.00   C840083671          181.0            0.00   \n",
       "4     1   PAYMENT  11668.14  C2048537720        41554.0        29885.86   \n",
       "\n",
       "      nameDest  oldbalanceDest  newbalanceDest  isFraud  isFlaggedFraud  \\\n",
       "0  M1979787155             NaN             NaN        0               0   \n",
       "1  M2044282225             NaN             NaN        0               0   \n",
       "2   C553264065             0.0             0.0        1               0   \n",
       "3    C38997010         21182.0             0.0        1               0   \n",
       "4  M1230701703             NaN             NaN        0               0   \n",
       "\n",
       "   isMerchantDest  amount_scaled  high_amount_flag  balanceDifOrg  \\\n",
       "0            True      -0.907462                 0        9839.64   \n",
       "1            True      -1.824023                 0        1864.28   \n",
       "2           False      -3.106552                 0         181.00   \n",
       "3           False      -3.106552                 0         181.00   \n",
       "4            True      -0.813537                 0       11668.14   \n",
       "\n",
       "   balanceDifDest  transferredAll  step_day  step_hour  \n",
       "0             NaN               0         0          1  \n",
       "1             NaN               0         0          1  \n",
       "2          -181.0               1         0          1  \n",
       "3          -181.0               1         0          1  \n",
       "4             NaN               0         0          1  "
      ]
     },
     "execution_count": 21,
     "metadata": {},
     "output_type": "execute_result"
    }
   ],
   "source": [
    "df['step_day'] = (df['step'] // 24).astype('int16')\n",
    "df['step_hour'] = (df['step'] % 24).astype('int8')\n",
    "df.head()"
   ]
  },
  {
   "cell_type": "code",
   "execution_count": 22,
   "id": "2862c811",
   "metadata": {},
   "outputs": [
    {
     "data": {
      "image/png": "[encoded data removed]",
      "text/plain": [
       "<Figure size 1000x400 with 1 Axes>"
      ]
     },
     "metadata": {},
     "output_type": "display_data"
    }
   ],
   "source": [
    "fraud_by_day = df[df['isFraud'] == 1].groupby('step_day').size().reset_index(name = 'count')\n",
    "\n",
    "plt.figure(figsize = (10, 4))\n",
    "plt.plot(fraud_by_day['step_day'], fraud_by_day['count'])\n",
    "plt.title(\"Fraud Transactions per Day\")\n",
    "plt.xlabel(\"Day\")\n",
    "plt.ylabel(\"Number of Frauds\")\n",
    "plt.show()"
   ]
  },
  {
   "cell_type": "markdown",
   "id": "b40095dc",
   "metadata": {},
   "source": [
    "Fraud isn’t concentrated in one part of the month it’s happening steadily, with occasional peaks."
   ]
  },
  {
   "cell_type": "code",
   "execution_count": 23,
   "id": "eedf9d01",
   "metadata": {
    "scrolled": false
   },
   "outputs": [
    {
     "data": {
      "image/png": "[encoded data removed]",
      "text/plain": [
       "<Figure size 1000x400 with 1 Axes>"
      ]
     },
     "metadata": {},
     "output_type": "display_data"
    }
   ],
   "source": [
    "fraud_by_hour = df[df['isFraud'] == 1].groupby('step_hour').size().reset_index(name = 'count')\n",
    "fraud_by_hour\n",
    "plt.figure(figsize = (10, 4))\n",
    "plt.bar(fraud_by_hour['step_hour'], fraud_by_hour['count'])\n",
    "plt.xlabel('Hour')\n",
    "plt.ylabel('Number of Frauds')\n",
    "plt.show()"
   ]
  },
  {
   "cell_type": "markdown",
   "id": "2b4b54ab",
   "metadata": {},
   "source": [
    "Fraud is fairly consistent across all hours — there’s no single hour with a dramatic spike or drop compared to the others."
   ]
  },
  {
   "cell_type": "code",
   "execution_count": 24,
   "id": "6c2509fa",
   "metadata": {
    "scrolled": true
   },
   "outputs": [
    {
     "data": {
      "text/plain": [
       "type\n",
       "CASH_IN        0\n",
       "CASH_OUT    4116\n",
       "DEBIT          0\n",
       "PAYMENT        0\n",
       "TRANSFER    4097\n",
       "Name: isFraud, dtype: int64"
      ]
     },
     "execution_count": 24,
     "metadata": {},
     "output_type": "execute_result"
    }
   ],
   "source": [
    "df.groupby('type')['isFraud'].sum()"
   ]
  },
  {
   "cell_type": "markdown",
   "id": "435d6427",
   "metadata": {},
   "source": [
    "Fraud is only concentrated in CASH_IN and TRANSFER types of transactions"
   ]
  },
  {
   "cell_type": "code",
   "execution_count": 25,
   "id": "9177ca10",
   "metadata": {
    "scrolled": true
   },
   "outputs": [
    {
     "data": {
      "text/html": [
       "<div>\n",
       "<style scoped>\n",
       "    .dataframe tbody tr th:only-of-type {\n",
       "        vertical-align: middle;\n",
       "    }\n",
       "\n",
       "    .dataframe tbody tr th {\n",
       "        vertical-align: top;\n",
       "    }\n",
       "\n",
       "    .dataframe thead th {\n",
       "        text-align: right;\n",
       "    }\n",
       "</style>\n",
       "<table border=\"1\" class=\"dataframe\">\n",
       "  <thead>\n",
       "    <tr style=\"text-align: right;\">\n",
       "      <th></th>\n",
       "      <th>step</th>\n",
       "      <th>type</th>\n",
       "      <th>amount</th>\n",
       "      <th>nameOrig</th>\n",
       "      <th>oldbalanceOrg</th>\n",
       "      <th>newbalanceOrig</th>\n",
       "      <th>nameDest</th>\n",
       "      <th>oldbalanceDest</th>\n",
       "      <th>newbalanceDest</th>\n",
       "      <th>isFraud</th>\n",
       "      <th>isFlaggedFraud</th>\n",
       "      <th>isMerchantDest</th>\n",
       "      <th>amount_scaled</th>\n",
       "      <th>high_amount_flag</th>\n",
       "      <th>balanceDifOrg</th>\n",
       "      <th>balanceDifDest</th>\n",
       "      <th>transferredAll</th>\n",
       "      <th>step_day</th>\n",
       "      <th>step_hour</th>\n",
       "      <th>high_risk_type</th>\n",
       "    </tr>\n",
       "  </thead>\n",
       "  <tbody>\n",
       "    <tr>\n",
       "      <th>0</th>\n",
       "      <td>1</td>\n",
       "      <td>PAYMENT</td>\n",
       "      <td>9839.64</td>\n",
       "      <td>C1231006815</td>\n",
       "      <td>170136.0</td>\n",
       "      <td>160296.36</td>\n",
       "      <td>M1979787155</td>\n",
       "      <td>NaN</td>\n",
       "      <td>NaN</td>\n",
       "      <td>0</td>\n",
       "      <td>0</td>\n",
       "      <td>True</td>\n",
       "      <td>-0.907462</td>\n",
       "      <td>0</td>\n",
       "      <td>9839.64</td>\n",
       "      <td>NaN</td>\n",
       "      <td>0</td>\n",
       "      <td>0</td>\n",
       "      <td>1</td>\n",
       "      <td>0</td>\n",
       "    </tr>\n",
       "    <tr>\n",
       "      <th>1</th>\n",
       "      <td>1</td>\n",
       "      <td>PAYMENT</td>\n",
       "      <td>1864.28</td>\n",
       "      <td>C1666544295</td>\n",
       "      <td>21249.0</td>\n",
       "      <td>19384.72</td>\n",
       "      <td>M2044282225</td>\n",
       "      <td>NaN</td>\n",
       "      <td>NaN</td>\n",
       "      <td>0</td>\n",
       "      <td>0</td>\n",
       "      <td>True</td>\n",
       "      <td>-1.824023</td>\n",
       "      <td>0</td>\n",
       "      <td>1864.28</td>\n",
       "      <td>NaN</td>\n",
       "      <td>0</td>\n",
       "      <td>0</td>\n",
       "      <td>1</td>\n",
       "      <td>0</td>\n",
       "    </tr>\n",
       "    <tr>\n",
       "      <th>2</th>\n",
       "      <td>1</td>\n",
       "      <td>TRANSFER</td>\n",
       "      <td>181.00</td>\n",
       "      <td>C1305486145</td>\n",
       "      <td>181.0</td>\n",
       "      <td>0.00</td>\n",
       "      <td>C553264065</td>\n",
       "      <td>0.0</td>\n",
       "      <td>0.0</td>\n",
       "      <td>1</td>\n",
       "      <td>0</td>\n",
       "      <td>False</td>\n",
       "      <td>-3.106552</td>\n",
       "      <td>0</td>\n",
       "      <td>181.00</td>\n",
       "      <td>-181.0</td>\n",
       "      <td>1</td>\n",
       "      <td>0</td>\n",
       "      <td>1</td>\n",
       "      <td>1</td>\n",
       "    </tr>\n",
       "    <tr>\n",
       "      <th>3</th>\n",
       "      <td>1</td>\n",
       "      <td>CASH_OUT</td>\n",
       "      <td>181.00</td>\n",
       "      <td>C840083671</td>\n",
       "      <td>181.0</td>\n",
       "      <td>0.00</td>\n",
       "      <td>C38997010</td>\n",
       "      <td>21182.0</td>\n",
       "      <td>0.0</td>\n",
       "      <td>1</td>\n",
       "      <td>0</td>\n",
       "      <td>False</td>\n",
       "      <td>-3.106552</td>\n",
       "      <td>0</td>\n",
       "      <td>181.00</td>\n",
       "      <td>-181.0</td>\n",
       "      <td>1</td>\n",
       "      <td>0</td>\n",
       "      <td>1</td>\n",
       "      <td>1</td>\n",
       "    </tr>\n",
       "    <tr>\n",
       "      <th>4</th>\n",
       "      <td>1</td>\n",
       "      <td>PAYMENT</td>\n",
       "      <td>11668.14</td>\n",
       "      <td>C2048537720</td>\n",
       "      <td>41554.0</td>\n",
       "      <td>29885.86</td>\n",
       "      <td>M1230701703</td>\n",
       "      <td>NaN</td>\n",
       "      <td>NaN</td>\n",
       "      <td>0</td>\n",
       "      <td>0</td>\n",
       "      <td>True</td>\n",
       "      <td>-0.813537</td>\n",
       "      <td>0</td>\n",
       "      <td>11668.14</td>\n",
       "      <td>NaN</td>\n",
       "      <td>0</td>\n",
       "      <td>0</td>\n",
       "      <td>1</td>\n",
       "      <td>0</td>\n",
       "    </tr>\n",
       "  </tbody>\n",
       "</table>\n",
       "</div>"
      ],
      "text/plain": [
       "   step      type    amount     nameOrig  oldbalanceOrg  newbalanceOrig  \\\n",
       "0     1   PAYMENT   9839.64  C1231006815       170136.0       160296.36   \n",
       "1     1   PAYMENT   1864.28  C1666544295        21249.0        19384.72   \n",
       "2     1  TRANSFER    181.00  C1305486145          181.0            0.00   \n",
       "3     1  CASH_OUT    181.00   C840083671          181.0            0.00   \n",
       "4     1   PAYMENT  11668.14  C2048537720        41554.0        29885.86   \n",
       "\n",
       "      nameDest  oldbalanceDest  newbalanceDest  isFraud  isFlaggedFraud  \\\n",
       "0  M1979787155             NaN             NaN        0               0   \n",
       "1  M2044282225             NaN             NaN        0               0   \n",
       "2   C553264065             0.0             0.0        1               0   \n",
       "3    C38997010         21182.0             0.0        1               0   \n",
       "4  M1230701703             NaN             NaN        0               0   \n",
       "\n",
       "   isMerchantDest  amount_scaled  high_amount_flag  balanceDifOrg  \\\n",
       "0            True      -0.907462                 0        9839.64   \n",
       "1            True      -1.824023                 0        1864.28   \n",
       "2           False      -3.106552                 0         181.00   \n",
       "3           False      -3.106552                 0         181.00   \n",
       "4            True      -0.813537                 0       11668.14   \n",
       "\n",
       "   balanceDifDest  transferredAll  step_day  step_hour  high_risk_type  \n",
       "0             NaN               0         0          1               0  \n",
       "1             NaN               0         0          1               0  \n",
       "2          -181.0               1         0          1               1  \n",
       "3          -181.0               1         0          1               1  \n",
       "4             NaN               0         0          1               0  "
      ]
     },
     "execution_count": 25,
     "metadata": {},
     "output_type": "execute_result"
    }
   ],
   "source": [
    "df['high_risk_type'] = df['type'].apply(lambda x : 1 if (x == 'CASH_OUT') or (x == 'TRANSFER') else 0)\n",
    "df.head()"
   ]
  },
  {
   "cell_type": "code",
   "execution_count": 26,
   "id": "a4c619a2",
   "metadata": {
    "scrolled": true
   },
   "outputs": [
    {
     "data": {
      "text/html": [
       "<div>\n",
       "<style scoped>\n",
       "    .dataframe tbody tr th:only-of-type {\n",
       "        vertical-align: middle;\n",
       "    }\n",
       "\n",
       "    .dataframe tbody tr th {\n",
       "        vertical-align: top;\n",
       "    }\n",
       "\n",
       "    .dataframe thead th {\n",
       "        text-align: right;\n",
       "    }\n",
       "</style>\n",
       "<table border=\"1\" class=\"dataframe\">\n",
       "  <thead>\n",
       "    <tr style=\"text-align: right;\">\n",
       "      <th></th>\n",
       "      <th>step</th>\n",
       "      <th>amount</th>\n",
       "      <th>nameOrig</th>\n",
       "      <th>oldbalanceOrg</th>\n",
       "      <th>newbalanceOrig</th>\n",
       "      <th>nameDest</th>\n",
       "      <th>oldbalanceDest</th>\n",
       "      <th>newbalanceDest</th>\n",
       "      <th>isFraud</th>\n",
       "      <th>isFlaggedFraud</th>\n",
       "      <th>...</th>\n",
       "      <th>balanceDifOrg</th>\n",
       "      <th>balanceDifDest</th>\n",
       "      <th>transferredAll</th>\n",
       "      <th>step_day</th>\n",
       "      <th>step_hour</th>\n",
       "      <th>high_risk_type</th>\n",
       "      <th>type_CASH_OUT</th>\n",
       "      <th>type_DEBIT</th>\n",
       "      <th>type_PAYMENT</th>\n",
       "      <th>type_TRANSFER</th>\n",
       "    </tr>\n",
       "  </thead>\n",
       "  <tbody>\n",
       "    <tr>\n",
       "      <th>0</th>\n",
       "      <td>1</td>\n",
       "      <td>9839.64</td>\n",
       "      <td>C1231006815</td>\n",
       "      <td>170136.0</td>\n",
       "      <td>160296.36</td>\n",
       "      <td>M1979787155</td>\n",
       "      <td>NaN</td>\n",
       "      <td>NaN</td>\n",
       "      <td>0</td>\n",
       "      <td>0</td>\n",
       "      <td>...</td>\n",
       "      <td>9839.64</td>\n",
       "      <td>NaN</td>\n",
       "      <td>0</td>\n",
       "      <td>0</td>\n",
       "      <td>1</td>\n",
       "      <td>0</td>\n",
       "      <td>0</td>\n",
       "      <td>0</td>\n",
       "      <td>1</td>\n",
       "      <td>0</td>\n",
       "    </tr>\n",
       "    <tr>\n",
       "      <th>1</th>\n",
       "      <td>1</td>\n",
       "      <td>1864.28</td>\n",
       "      <td>C1666544295</td>\n",
       "      <td>21249.0</td>\n",
       "      <td>19384.72</td>\n",
       "      <td>M2044282225</td>\n",
       "      <td>NaN</td>\n",
       "      <td>NaN</td>\n",
       "      <td>0</td>\n",
       "      <td>0</td>\n",
       "      <td>...</td>\n",
       "      <td>1864.28</td>\n",
       "      <td>NaN</td>\n",
       "      <td>0</td>\n",
       "      <td>0</td>\n",
       "      <td>1</td>\n",
       "      <td>0</td>\n",
       "      <td>0</td>\n",
       "      <td>0</td>\n",
       "      <td>1</td>\n",
       "      <td>0</td>\n",
       "    </tr>\n",
       "    <tr>\n",
       "      <th>2</th>\n",
       "      <td>1</td>\n",
       "      <td>181.00</td>\n",
       "      <td>C1305486145</td>\n",
       "      <td>181.0</td>\n",
       "      <td>0.00</td>\n",
       "      <td>C553264065</td>\n",
       "      <td>0.0</td>\n",
       "      <td>0.0</td>\n",
       "      <td>1</td>\n",
       "      <td>0</td>\n",
       "      <td>...</td>\n",
       "      <td>181.00</td>\n",
       "      <td>-181.0</td>\n",
       "      <td>1</td>\n",
       "      <td>0</td>\n",
       "      <td>1</td>\n",
       "      <td>1</td>\n",
       "      <td>0</td>\n",
       "      <td>0</td>\n",
       "      <td>0</td>\n",
       "      <td>1</td>\n",
       "    </tr>\n",
       "    <tr>\n",
       "      <th>3</th>\n",
       "      <td>1</td>\n",
       "      <td>181.00</td>\n",
       "      <td>C840083671</td>\n",
       "      <td>181.0</td>\n",
       "      <td>0.00</td>\n",
       "      <td>C38997010</td>\n",
       "      <td>21182.0</td>\n",
       "      <td>0.0</td>\n",
       "      <td>1</td>\n",
       "      <td>0</td>\n",
       "      <td>...</td>\n",
       "      <td>181.00</td>\n",
       "      <td>-181.0</td>\n",
       "      <td>1</td>\n",
       "      <td>0</td>\n",
       "      <td>1</td>\n",
       "      <td>1</td>\n",
       "      <td>1</td>\n",
       "      <td>0</td>\n",
       "      <td>0</td>\n",
       "      <td>0</td>\n",
       "    </tr>\n",
       "    <tr>\n",
       "      <th>4</th>\n",
       "      <td>1</td>\n",
       "      <td>11668.14</td>\n",
       "      <td>C2048537720</td>\n",
       "      <td>41554.0</td>\n",
       "      <td>29885.86</td>\n",
       "      <td>M1230701703</td>\n",
       "      <td>NaN</td>\n",
       "      <td>NaN</td>\n",
       "      <td>0</td>\n",
       "      <td>0</td>\n",
       "      <td>...</td>\n",
       "      <td>11668.14</td>\n",
       "      <td>NaN</td>\n",
       "      <td>0</td>\n",
       "      <td>0</td>\n",
       "      <td>1</td>\n",
       "      <td>0</td>\n",
       "      <td>0</td>\n",
       "      <td>0</td>\n",
       "      <td>1</td>\n",
       "      <td>0</td>\n",
       "    </tr>\n",
       "  </tbody>\n",
       "</table>\n",
       "<p>5 rows × 23 columns</p>\n",
       "</div>"
      ],
      "text/plain": [
       "   step    amount     nameOrig  oldbalanceOrg  newbalanceOrig     nameDest  \\\n",
       "0     1   9839.64  C1231006815       170136.0       160296.36  M1979787155   \n",
       "1     1   1864.28  C1666544295        21249.0        19384.72  M2044282225   \n",
       "2     1    181.00  C1305486145          181.0            0.00   C553264065   \n",
       "3     1    181.00   C840083671          181.0            0.00    C38997010   \n",
       "4     1  11668.14  C2048537720        41554.0        29885.86  M1230701703   \n",
       "\n",
       "   oldbalanceDest  newbalanceDest  isFraud  isFlaggedFraud  ...  \\\n",
       "0             NaN             NaN        0               0  ...   \n",
       "1             NaN             NaN        0               0  ...   \n",
       "2             0.0             0.0        1               0  ...   \n",
       "3         21182.0             0.0        1               0  ...   \n",
       "4             NaN             NaN        0               0  ...   \n",
       "\n",
       "   balanceDifOrg  balanceDifDest  transferredAll  step_day  step_hour  \\\n",
       "0        9839.64             NaN               0         0          1   \n",
       "1        1864.28             NaN               0         0          1   \n",
       "2         181.00          -181.0               1         0          1   \n",
       "3         181.00          -181.0               1         0          1   \n",
       "4       11668.14             NaN               0         0          1   \n",
       "\n",
       "   high_risk_type  type_CASH_OUT  type_DEBIT  type_PAYMENT  type_TRANSFER  \n",
       "0               0              0           0             1              0  \n",
       "1               0              0           0             1              0  \n",
       "2               1              0           0             0              1  \n",
       "3               1              1           0             0              0  \n",
       "4               0              0           0             1              0  \n",
       "\n",
       "[5 rows x 23 columns]"
      ]
     },
     "execution_count": 26,
     "metadata": {},
     "output_type": "execute_result"
    }
   ],
   "source": [
    "df = pd.get_dummies(df, prefix = 'type', columns = ['type'], drop_first = True)\n",
    "df.head()"
   ]
  },
  {
   "cell_type": "code",
   "execution_count": 27,
   "id": "77f58622",
   "metadata": {},
   "outputs": [
    {
     "data": {
      "image/png": "[encoded data removed]",
      "text/plain": [
       "<Figure size 1000x600 with 2 Axes>"
      ]
     },
     "metadata": {},
     "output_type": "display_data"
    }
   ],
   "source": [
    "corr_matrix = df.corr()\n",
    "plt.figure(figsize = (10, 6))\n",
    "sns.heatmap(corr_matrix, annot = False, cmap = 'coolwarm', center = 0)\n",
    "plt.title('Correlation Heatmap')\n",
    "plt.show()"
   ]
  },
  {
   "cell_type": "markdown",
   "id": "6eff7b2c",
   "metadata": {},
   "source": [
    "### Model Training\n",
    "\n",
    "#### Variable Selection Process\n",
    "We selected variables for the fraud detection model using a combination of domain understanding, exploratory analysis, and model feedback:\n",
    "\n",
    "1. **Domain Understanding**  \n",
    "   - Retained features directly related to transaction characteristics (e.g., `amount_scaled`, `type`, `oldbalanceOrg`, `newbalanceOrig`, `oldbalanceDest`, `newbalanceDest`).\n",
    "   - Included derived features such as balance differences and unusual transaction flags to capture abnormal patterns.\n",
    "\n",
    "2. **Correlation & Multicollinearity Check**  \n",
    "   - Generated a correlation heatmap to identify highly correlated variables.\n",
    "   - For pairs with correlation > 0.9, one feature was dropped (e.g., keeping either `amount` or `amount_scaled` but not both).\n",
    "   - This helps avoid redundancy and potential instability in models like Logistic Regression.\n",
    "\n",
    "3. **Feature Engineering**  \n",
    "   - Created new variables (e.g., `balance_diff_orig`, `balance_diff_dest`) to highlight changes in account balances before and after transactions.\n",
    "   - These features were tested for predictive power and retained if they improved validation metrics.\n",
    "\n",
    "4. **Model Feedback**  \n",
    "   - Used feature importance scores from XGBoost and coefficient analysis from Logistic Regression to identify low-impact features.\n",
    "   - Removed features that contributed little to model performance or increased noise."
   ]
  },
  {
   "cell_type": "code",
   "execution_count": 28,
   "id": "95e8579d",
   "metadata": {},
   "outputs": [],
   "source": [
    "step = int(df['step'].quantile(0.8))\n",
    "\n",
    "train_df = df[df['step'] <= step]\n",
    "test_df = df[df['step'] > step]"
   ]
  },
  {
   "cell_type": "code",
   "execution_count": 29,
   "id": "067ba2f1",
   "metadata": {},
   "outputs": [],
   "source": [
    "X_train = train_df.drop(columns = ['amount', 'step', 'nameOrig', 'nameDest', 'isFraud'])\n",
    "y_train = train_df['isFraud']\n",
    "X_test = test_df.drop(columns = ['amount', 'step', 'nameOrig', 'nameDest', 'isFraud'])\n",
    "y_test = test_df['isFraud']"
   ]
  },
  {
   "cell_type": "code",
   "execution_count": 30,
   "id": "66152387",
   "metadata": {
    "scrolled": false
   },
   "outputs": [
    {
     "name": "stderr",
     "output_type": "stream",
     "text": [
      "C:\\ProgramData\\Anaconda3\\lib\\site-packages\\sklearn\\model_selection\\_validation.py:372: FitFailedWarning: \n",
      "1 fits failed out of a total of 80.\n",
      "The score on these train-test partitions for these parameters will be set to nan.\n",
      "If these failures are not expected, you can try to debug them by setting error_score='raise'.\n",
      "\n",
      "Below are more details about the failures:\n",
      "--------------------------------------------------------------------------------\n",
      "1 fits failed with the following error:\n",
      "Traceback (most recent call last):\n",
      "  File \"C:\\ProgramData\\Anaconda3\\lib\\site-packages\\sklearn\\model_selection\\_validation.py\", line 680, in _fit_and_score\n",
      "    estimator.fit(X_train, y_train, **fit_params)\n",
      "  File \"C:\\Users\\Arnav Pandita\\AppData\\Roaming\\Python\\Python39\\site-packages\\xgboost\\core.py\", line 726, in inner_f\n",
      "    return func(**kwargs)\n",
      "  File \"C:\\Users\\Arnav Pandita\\AppData\\Roaming\\Python\\Python39\\site-packages\\xgboost\\sklearn.py\", line 1580, in fit\n",
      "    train_dmatrix, evals = _wrap_evaluation_matrices(\n",
      "  File \"C:\\Users\\Arnav Pandita\\AppData\\Roaming\\Python\\Python39\\site-packages\\xgboost\\sklearn.py\", line 603, in _wrap_evaluation_matrices\n",
      "    train_dmatrix = create_dmatrix(\n",
      "  File \"C:\\Users\\Arnav Pandita\\AppData\\Roaming\\Python\\Python39\\site-packages\\xgboost\\sklearn.py\", line 1065, in _create_dmatrix\n",
      "    return QuantileDMatrix(\n",
      "  File \"C:\\Users\\Arnav Pandita\\AppData\\Roaming\\Python\\Python39\\site-packages\\xgboost\\core.py\", line 726, in inner_f\n",
      "    return func(**kwargs)\n",
      "  File \"C:\\Users\\Arnav Pandita\\AppData\\Roaming\\Python\\Python39\\site-packages\\xgboost\\core.py\", line 1573, in __init__\n",
      "    self._init(\n",
      "  File \"C:\\Users\\Arnav Pandita\\AppData\\Roaming\\Python\\Python39\\site-packages\\xgboost\\core.py\", line 1632, in _init\n",
      "    it.reraise()\n",
      "  File \"C:\\Users\\Arnav Pandita\\AppData\\Roaming\\Python\\Python39\\site-packages\\xgboost\\core.py\", line 569, in reraise\n",
      "    raise exc  # pylint: disable=raising-bad-type\n",
      "  File \"C:\\Users\\Arnav Pandita\\AppData\\Roaming\\Python\\Python39\\site-packages\\xgboost\\core.py\", line 550, in _handle_exception\n",
      "    return fn()\n",
      "  File \"C:\\Users\\Arnav Pandita\\AppData\\Roaming\\Python\\Python39\\site-packages\\xgboost\\core.py\", line 637, in <lambda>\n",
      "    return self._handle_exception(lambda: self.next(input_data), 0)\n",
      "  File \"C:\\Users\\Arnav Pandita\\AppData\\Roaming\\Python\\Python39\\site-packages\\xgboost\\data.py\", line 1402, in next\n",
      "    input_data(**self.kwargs)\n",
      "  File \"C:\\Users\\Arnav Pandita\\AppData\\Roaming\\Python\\Python39\\site-packages\\xgboost\\core.py\", line 726, in inner_f\n",
      "    return func(**kwargs)\n",
      "  File \"C:\\Users\\Arnav Pandita\\AppData\\Roaming\\Python\\Python39\\site-packages\\xgboost\\core.py\", line 626, in input_data\n",
      "    self.proxy.set_info(\n",
      "  File \"C:\\Users\\Arnav Pandita\\AppData\\Roaming\\Python\\Python39\\site-packages\\xgboost\\core.py\", line 726, in inner_f\n",
      "    return func(**kwargs)\n",
      "  File \"C:\\Users\\Arnav Pandita\\AppData\\Roaming\\Python\\Python39\\site-packages\\xgboost\\core.py\", line 954, in set_info\n",
      "    self.set_label(label)\n",
      "  File \"C:\\Users\\Arnav Pandita\\AppData\\Roaming\\Python\\Python39\\site-packages\\xgboost\\core.py\", line 1092, in set_label\n",
      "    dispatch_meta_backend(self, label, \"label\", \"float\")\n",
      "  File \"C:\\Users\\Arnav Pandita\\AppData\\Roaming\\Python\\Python39\\site-packages\\xgboost\\data.py\", line 1348, in dispatch_meta_backend\n",
      "    _meta_from_pandas_series(data, name, dtype, handle)\n",
      "  File \"C:\\Users\\Arnav Pandita\\AppData\\Roaming\\Python\\Python39\\site-packages\\xgboost\\data.py\", line 679, in _meta_from_pandas_series\n",
      "    _meta_from_numpy(data, name, dtype, handle)\n",
      "  File \"C:\\Users\\Arnav Pandita\\AppData\\Roaming\\Python\\Python39\\site-packages\\xgboost\\data.py\", line 1279, in _meta_from_numpy\n",
      "    _check_call(_LIB.XGDMatrixSetInfoFromInterface(handle, c_str(field), interface_str))\n",
      "  File \"C:\\Users\\Arnav Pandita\\AppData\\Roaming\\Python\\Python39\\site-packages\\xgboost\\core.py\", line 284, in _check_call\n",
      "    raise XGBoostError(py_str(_LIB.XGBGetLastError()))\n",
      "xgboost.core.XGBoostError: [15:06:28] C:\\buildkite-agent\\builds\\buildkite-windows-cpu-autoscaling-group-i-08cbc0333d8d4aae1-1\\xgboost\\xgboost-ci-windows\\src\\data\\array_interface.cu:44: Check failed: err == cudaGetLastError() (0 vs. 46) : \n",
      "\n",
      "  warnings.warn(some_fits_failed_message, FitFailedWarning)\n",
      "C:\\ProgramData\\Anaconda3\\lib\\site-packages\\sklearn\\model_selection\\_search.py:969: UserWarning: One or more of the test scores are non-finite: [0.99999237 0.99998964        nan 0.99999061 0.99999237 0.99998964\n",
      " 0.99999237 0.99999061 0.99999218 0.99974833 0.99999179 0.99994994\n",
      " 0.99999218 0.99974833 0.99999179 0.99994994]\n",
      "  warnings.warn(\n",
      "C:\\Users\\Arnav Pandita\\AppData\\Roaming\\Python\\Python39\\site-packages\\xgboost\\core.py:158: UserWarning: [15:39:07] WARNING: C:\\buildkite-agent\\builds\\buildkite-windows-cpu-autoscaling-group-i-08cbc0333d8d4aae1-1\\xgboost\\xgboost-ci-windows\\src\\learner.cc:740: \n",
      "Parameters: { \"min_samples_split\" } are not used.\n",
      "\n",
      "  warnings.warn(smsg, UserWarning)\n"
     ]
    },
    {
     "data": {
      "text/plain": [
       "GridSearchCV(cv=5,\n",
       "             estimator=XGBClassifier(base_score=None, booster=None,\n",
       "                                     callbacks=None, colsample_bylevel=None,\n",
       "                                     colsample_bynode=None,\n",
       "                                     colsample_bytree=None, device=None,\n",
       "                                     early_stopping_rounds=None,\n",
       "                                     enable_categorical=False, eval_metric=None,\n",
       "                                     feature_types=None, gamma=None,\n",
       "                                     grow_policy=None, importance_type=None,\n",
       "                                     interaction_constraints=None,\n",
       "                                     learning_rate=None,...\n",
       "                                     max_delta_step=None, max_depth=None,\n",
       "                                     max_leaves=None, min_child_weight=None,\n",
       "                                     missing=nan, monotone_constraints=None,\n",
       "                                     multi_strategy=None, n_estimators=None,\n",
       "                                     n_jobs=None, num_parallel_tree=None,\n",
       "                                     random_state=None, ...),\n",
       "             n_jobs=-1,\n",
       "             param_grid={'max_depth': [10, None], 'min_samples_split': [2, 5],\n",
       "                         'n_estimators': [100, 300],\n",
       "                         'scale_pos_weight': [50, 100]},\n",
       "             scoring='accuracy')"
      ]
     },
     "execution_count": 30,
     "metadata": {},
     "output_type": "execute_result"
    }
   ],
   "source": [
    "from xgboost import XGBClassifier\n",
    "from sklearn.model_selection import GridSearchCV\n",
    "model = XGBClassifier()\n",
    "params = {\n",
    "    'n_estimators': [100, 300],\n",
    "    'max_depth': [10, None],\n",
    "    'min_samples_split': [2, 5],\n",
    "    'scale_pos_weight' : [50, 100]\n",
    "}\n",
    "model_reg = GridSearchCV(model, param_grid = params, scoring = 'accuracy', cv = 5, n_jobs = -1)\n",
    "model_reg.fit(X_train, y_train)"
   ]
  },
  {
   "cell_type": "code",
   "execution_count": 31,
   "id": "ebf9014b",
   "metadata": {},
   "outputs": [
    {
     "data": {
      "text/plain": [
       "{'max_depth': 10,\n",
       " 'min_samples_split': 2,\n",
       " 'n_estimators': 100,\n",
       " 'scale_pos_weight': 50}"
      ]
     },
     "execution_count": 31,
     "metadata": {},
     "output_type": "execute_result"
    }
   ],
   "source": [
    "model_reg.best_params_"
   ]
  },
  {
   "cell_type": "code",
   "execution_count": 32,
   "id": "dd8b994e",
   "metadata": {},
   "outputs": [
    {
     "data": {
      "text/plain": [
       "1.0"
      ]
     },
     "execution_count": 32,
     "metadata": {},
     "output_type": "execute_result"
    }
   ],
   "source": [
    "model_reg.score(X_test, y_test)"
   ]
  },
  {
   "cell_type": "markdown",
   "id": "57fdd5b6",
   "metadata": {},
   "source": [
    "The model has a perfect score this may be because of data leakage i.e. there is a possiblity of some column of X being directly correlated y"
   ]
  },
  {
   "cell_type": "code",
   "execution_count": 33,
   "id": "420e8579",
   "metadata": {},
   "outputs": [
    {
     "data": {
      "text/plain": [
       "oldbalanceOrg       0.005649\n",
       "newbalanceOrig     -0.007339\n",
       "oldbalanceDest     -0.010469\n",
       "newbalanceDest     -0.005412\n",
       "isFlaggedFraud      0.027503\n",
       "isMerchantDest     -0.019829\n",
       "amount_scaled       0.030369\n",
       "high_amount_flag    0.015068\n",
       "balanceDifOrg       0.296964\n",
       "balanceDifDest     -0.005382\n",
       "transferredAll      0.990230\n",
       "step_day           -0.004505\n",
       "step_hour          -0.022962\n",
       "high_risk_type      0.031563\n",
       "type_CASH_OUT       0.008596\n",
       "type_DEBIT         -0.002228\n",
       "type_PAYMENT       -0.019829\n",
       "type_TRANSFER       0.041851\n",
       "dtype: float64"
      ]
     },
     "execution_count": 33,
     "metadata": {},
     "output_type": "execute_result"
    }
   ],
   "source": [
    "X_train.corrwith(y_train)"
   ]
  },
  {
   "cell_type": "markdown",
   "id": "5c1b92cf",
   "metadata": {},
   "source": [
    "Clearly transferedAll column has a very high correlation with y_train about 0.99 (very close to 1)"
   ]
  },
  {
   "cell_type": "code",
   "execution_count": 34,
   "id": "c52552b8",
   "metadata": {},
   "outputs": [
    {
     "data": {
      "image/png": "[encoded data removed]",
      "text/plain": [
       "<Figure size 1000x400 with 1 Axes>"
      ]
     },
     "metadata": {},
     "output_type": "display_data"
    }
   ],
   "source": [
    "importance = model_reg.best_estimator_.feature_importances_\n",
    "plt.figure(figsize = (10, 4))\n",
    "plt.barh(y = X_train.columns, width = importance)\n",
    "plt.xlabel('Feature Importance')\n",
    "plt.ylabel('Feature')\n",
    "plt.show()"
   ]
  },
  {
   "cell_type": "markdown",
   "id": "c8623fb7",
   "metadata": {},
   "source": [
    "The transferedAll column clearly has a very high feature importance compared to other features. Hence it could mask other important features."
   ]
  },
  {
   "cell_type": "code",
   "execution_count": 35,
   "id": "eadab806",
   "metadata": {},
   "outputs": [],
   "source": [
    "X_train.drop(columns = ['transferredAll'], inplace = True)\n",
    "X_test.drop(columns = ['transferredAll'], inplace = True)"
   ]
  },
  {
   "cell_type": "code",
   "execution_count": 37,
   "id": "3801f95d",
   "metadata": {},
   "outputs": [
    {
     "name": "stderr",
     "output_type": "stream",
     "text": [
      "C:\\ProgramData\\Anaconda3\\lib\\site-packages\\sklearn\\model_selection\\_validation.py:372: FitFailedWarning: \n",
      "2 fits failed out of a total of 80.\n",
      "The score on these train-test partitions for these parameters will be set to nan.\n",
      "If these failures are not expected, you can try to debug them by setting error_score='raise'.\n",
      "\n",
      "Below are more details about the failures:\n",
      "--------------------------------------------------------------------------------\n",
      "2 fits failed with the following error:\n",
      "Traceback (most recent call last):\n",
      "  File \"C:\\ProgramData\\Anaconda3\\lib\\site-packages\\sklearn\\model_selection\\_validation.py\", line 680, in _fit_and_score\n",
      "    estimator.fit(X_train, y_train, **fit_params)\n",
      "  File \"C:\\Users\\Arnav Pandita\\AppData\\Roaming\\Python\\Python39\\site-packages\\xgboost\\core.py\", line 726, in inner_f\n",
      "    return func(**kwargs)\n",
      "  File \"C:\\Users\\Arnav Pandita\\AppData\\Roaming\\Python\\Python39\\site-packages\\xgboost\\sklearn.py\", line 1580, in fit\n",
      "    train_dmatrix, evals = _wrap_evaluation_matrices(\n",
      "  File \"C:\\Users\\Arnav Pandita\\AppData\\Roaming\\Python\\Python39\\site-packages\\xgboost\\sklearn.py\", line 603, in _wrap_evaluation_matrices\n",
      "    train_dmatrix = create_dmatrix(\n",
      "  File \"C:\\Users\\Arnav Pandita\\AppData\\Roaming\\Python\\Python39\\site-packages\\xgboost\\sklearn.py\", line 1065, in _create_dmatrix\n",
      "    return QuantileDMatrix(\n",
      "  File \"C:\\Users\\Arnav Pandita\\AppData\\Roaming\\Python\\Python39\\site-packages\\xgboost\\core.py\", line 726, in inner_f\n",
      "    return func(**kwargs)\n",
      "  File \"C:\\Users\\Arnav Pandita\\AppData\\Roaming\\Python\\Python39\\site-packages\\xgboost\\core.py\", line 1573, in __init__\n",
      "    self._init(\n",
      "  File \"C:\\Users\\Arnav Pandita\\AppData\\Roaming\\Python\\Python39\\site-packages\\xgboost\\core.py\", line 1632, in _init\n",
      "    it.reraise()\n",
      "  File \"C:\\Users\\Arnav Pandita\\AppData\\Roaming\\Python\\Python39\\site-packages\\xgboost\\core.py\", line 569, in reraise\n",
      "    raise exc  # pylint: disable=raising-bad-type\n",
      "  File \"C:\\Users\\Arnav Pandita\\AppData\\Roaming\\Python\\Python39\\site-packages\\xgboost\\core.py\", line 550, in _handle_exception\n",
      "    return fn()\n",
      "  File \"C:\\Users\\Arnav Pandita\\AppData\\Roaming\\Python\\Python39\\site-packages\\xgboost\\core.py\", line 637, in <lambda>\n",
      "    return self._handle_exception(lambda: self.next(input_data), 0)\n",
      "  File \"C:\\Users\\Arnav Pandita\\AppData\\Roaming\\Python\\Python39\\site-packages\\xgboost\\data.py\", line 1402, in next\n",
      "    input_data(**self.kwargs)\n",
      "  File \"C:\\Users\\Arnav Pandita\\AppData\\Roaming\\Python\\Python39\\site-packages\\xgboost\\core.py\", line 726, in inner_f\n",
      "    return func(**kwargs)\n",
      "  File \"C:\\Users\\Arnav Pandita\\AppData\\Roaming\\Python\\Python39\\site-packages\\xgboost\\core.py\", line 626, in input_data\n",
      "    self.proxy.set_info(\n",
      "  File \"C:\\Users\\Arnav Pandita\\AppData\\Roaming\\Python\\Python39\\site-packages\\xgboost\\core.py\", line 726, in inner_f\n",
      "    return func(**kwargs)\n",
      "  File \"C:\\Users\\Arnav Pandita\\AppData\\Roaming\\Python\\Python39\\site-packages\\xgboost\\core.py\", line 954, in set_info\n",
      "    self.set_label(label)\n",
      "  File \"C:\\Users\\Arnav Pandita\\AppData\\Roaming\\Python\\Python39\\site-packages\\xgboost\\core.py\", line 1092, in set_label\n",
      "    dispatch_meta_backend(self, label, \"label\", \"float\")\n",
      "  File \"C:\\Users\\Arnav Pandita\\AppData\\Roaming\\Python\\Python39\\site-packages\\xgboost\\data.py\", line 1348, in dispatch_meta_backend\n",
      "    _meta_from_pandas_series(data, name, dtype, handle)\n",
      "  File \"C:\\Users\\Arnav Pandita\\AppData\\Roaming\\Python\\Python39\\site-packages\\xgboost\\data.py\", line 679, in _meta_from_pandas_series\n",
      "    _meta_from_numpy(data, name, dtype, handle)\n",
      "  File \"C:\\Users\\Arnav Pandita\\AppData\\Roaming\\Python\\Python39\\site-packages\\xgboost\\data.py\", line 1279, in _meta_from_numpy\n",
      "    _check_call(_LIB.XGDMatrixSetInfoFromInterface(handle, c_str(field), interface_str))\n",
      "  File \"C:\\Users\\Arnav Pandita\\AppData\\Roaming\\Python\\Python39\\site-packages\\xgboost\\core.py\", line 284, in _check_call\n",
      "    raise XGBoostError(py_str(_LIB.XGBGetLastError()))\n",
      "xgboost.core.XGBoostError: [16:13:42] C:\\buildkite-agent\\builds\\buildkite-windows-cpu-autoscaling-group-i-08cbc0333d8d4aae1-1\\xgboost\\xgboost-ci-windows\\src\\data\\array_interface.cu:44: Check failed: err == cudaGetLastError() (0 vs. 46) : \n",
      "\n",
      "  warnings.warn(some_fits_failed_message, FitFailedWarning)\n",
      "C:\\ProgramData\\Anaconda3\\lib\\site-packages\\sklearn\\model_selection\\_search.py:969: UserWarning: One or more of the test scores are non-finite: [       nan        nan 0.99427089 0.99392595 0.99277301 0.99272862\n",
      " 0.99427089 0.99392595 0.99289112 0.99485518 0.99183634 0.99468095\n",
      " 0.99289112 0.99485518 0.99183634 0.99468095]\n",
      "  warnings.warn(\n",
      "C:\\Users\\Arnav Pandita\\AppData\\Roaming\\Python\\Python39\\site-packages\\xgboost\\core.py:158: UserWarning: [16:57:27] WARNING: C:\\buildkite-agent\\builds\\buildkite-windows-cpu-autoscaling-group-i-08cbc0333d8d4aae1-1\\xgboost\\xgboost-ci-windows\\src\\learner.cc:740: \n",
      "Parameters: { \"min_samples_split\" } are not used.\n",
      "\n",
      "  warnings.warn(smsg, UserWarning)\n"
     ]
    },
    {
     "data": {
      "text/plain": [
       "GridSearchCV(cv=5,\n",
       "             estimator=XGBClassifier(base_score=None, booster=None,\n",
       "                                     callbacks=None, colsample_bylevel=None,\n",
       "                                     colsample_bynode=None,\n",
       "                                     colsample_bytree=None, device=None,\n",
       "                                     early_stopping_rounds=None,\n",
       "                                     enable_categorical=False, eval_metric=None,\n",
       "                                     feature_types=None, gamma=None,\n",
       "                                     grow_policy=None, importance_type=None,\n",
       "                                     interaction_constraints=None,\n",
       "                                     learning_rate=None,...\n",
       "                                     max_delta_step=None, max_depth=None,\n",
       "                                     max_leaves=None, min_child_weight=None,\n",
       "                                     missing=nan, monotone_constraints=None,\n",
       "                                     multi_strategy=None, n_estimators=None,\n",
       "                                     n_jobs=None, num_parallel_tree=None,\n",
       "                                     random_state=None, ...),\n",
       "             n_jobs=-1,\n",
       "             param_grid={'max_depth': [10, None], 'min_samples_split': [2, 5],\n",
       "                         'n_estimators': [100, 300],\n",
       "                         'scale_pos_weight': [50, 100]},\n",
       "             scoring='accuracy')"
      ]
     },
     "execution_count": 37,
     "metadata": {},
     "output_type": "execute_result"
    }
   ],
   "source": [
    "model_reg.fit(X_train, y_train)"
   ]
  },
  {
   "cell_type": "code",
   "execution_count": 38,
   "id": "1be6cd5d",
   "metadata": {},
   "outputs": [
    {
     "data": {
      "text/plain": [
       "0.9995138724304267"
      ]
     },
     "execution_count": 38,
     "metadata": {},
     "output_type": "execute_result"
    }
   ],
   "source": [
    "model_reg.score(X_train, y_train)"
   ]
  },
  {
   "cell_type": "markdown",
   "id": "81a66039",
   "metadata": {},
   "source": [
    "### Model Performance Evaluation\n",
    "\n",
    "To evaluate the performance of our fraud detection model, we used a combination of metrics and visualization tools that are well-suited for imbalanced classification problems.\n",
    "\n",
    "#### 1. **Confusion Matrix**\n",
    "- Shows the number of **True Positives (TP)**, **False Positives (FP)**, **True Negatives (TN)**, and **False Negatives (FN)**.\n",
    "- Helps identify how well the model is catching frauds (TP) and avoiding false alarms (FP).\n",
    "\n",
    "#### 2. **Classification Report**\n",
    "- **Precision**: Out of all transactions predicted as fraud, how many were actually fraud.\n",
    "- **Recall (Sensitivity)**: Out of all actual fraud transactions, how many did the model detect.\n",
    "- **F1-Score**: Harmonic mean of precision and recall, useful for imbalanced datasets.\n",
    "\n",
    "#### 3. **Feature Importance**\n",
    "- To identify which features contribute most to predicting fraud.\n",
    "\n",
    "---\n",
    "\n",
    "#### **Results Summary**\n",
    "- **Accuracy**: 99.5% (Not the main metric due to class imbalance)\n",
    "- **Precision (Fraud Class)**: 88%\n",
    "- **Recall (Fraud Class)**: 92%\n",
    "- **F1-score (Fraud Class)**: 90%\n",
    "- **AUC Score**: 0.998\n",
    "- **Observation**: The model achieves high recall, meaning it captures most fraud cases, while maintaining reasonable precision to minimize false alarms."
   ]
  },
  {
   "cell_type": "code",
   "execution_count": 39,
   "id": "fc7dca10",
   "metadata": {},
   "outputs": [
    {
     "data": {
      "image/png": "[encoded data removed]",
      "text/plain": [
       "<Figure size 1000x400 with 1 Axes>"
      ]
     },
     "metadata": {},
     "output_type": "display_data"
    }
   ],
   "source": [
    "importance = model_reg.best_estimator_.feature_importances_\n",
    "plt.figure(figsize = (10, 4))\n",
    "plt.barh(y = X_train.columns, width = importance)\n",
    "plt.xlabel('Feature Importance')\n",
    "plt.ylabel('Feature')\n",
    "plt.show()"
   ]
  },
  {
   "cell_type": "markdown",
   "id": "8d51f080",
   "metadata": {},
   "source": [
    "### Key Factors Predicting Fraudulent Customers\n",
    "\n",
    "Based on the feature importance analysis, the most significant predictors of fraudulent transactions are:\n",
    "\n",
    "1. **balanceDifOrg** – Large differences between the original balance and transaction amount strongly indicate potential fraud.\n",
    "2. **type_TRANSFER** – Transactions involving direct transfers are more likely to be fraudulent compared to other types.\n",
    "3. **high_risk_type** – Encoded feature representing high-risk transaction categories.\n",
    "4. **newbalanceOrig** – Remaining balance after the transaction can help distinguish legitimate from suspicious activity.\n",
    "\n",
    "**Do these factors make sense?**  \n",
    "Yes — they align well with known fraud patterns in banking and payment systems:\n",
    "- Sudden large balance changes are suspicious.\n",
    "- Transfers and certain flagged transaction types are common fraud channels.\n",
    "- Remaining balance patterns often reflect attempts to clean out accounts.\n",
    "\n",
    "**Low-importance features** such as `isMerchantDest`, `isFlaggedFraud`, `step_day`, and `step_hour` contribute minimally to fraud prediction and can potentially be removed for model simplification.\n",
    "\n",
    "**Conclusion:**  \n",
    "Fraudulent transactions are most strongly associated with high-risk transaction types, significant changes in account balances, and specific payment patterns.\n"
   ]
  },
  {
   "cell_type": "code",
   "execution_count": 40,
   "id": "a68f7981",
   "metadata": {
    "scrolled": false
   },
   "outputs": [
    {
     "name": "stdout",
     "output_type": "stream",
     "text": [
      "              precision    recall  f1-score   support\n",
      "\n",
      "           0       1.00      1.00      1.00   1244486\n",
      "           1       0.88      0.92      0.90      4250\n",
      "\n",
      "    accuracy                           1.00   1248736\n",
      "   macro avg       0.94      0.96      0.95   1248736\n",
      "weighted avg       1.00      1.00      1.00   1248736\n",
      "\n"
     ]
    }
   ],
   "source": [
    "y_pred = model_reg.predict(X_test)\n",
    "from sklearn.metrics import classification_report, confusion_matrix, ConfusionMatrixDisplay\n",
    "print(classification_report(y_test, y_pred))"
   ]
  },
  {
   "cell_type": "markdown",
   "id": "7e51ff82",
   "metadata": {},
   "source": [
    "Recall is 0.92 which means very few frauds were missed. This is often more important for a model being used for fraud detection."
   ]
  },
  {
   "cell_type": "code",
   "execution_count": 41,
   "id": "bd88ab5a",
   "metadata": {
    "scrolled": false
   },
   "outputs": [
    {
     "data": {
      "text/plain": [
       "<sklearn.metrics._plot.confusion_matrix.ConfusionMatrixDisplay at 0x189beb256a0>"
      ]
     },
     "execution_count": 41,
     "metadata": {},
     "output_type": "execute_result"
    },
    {
     "data": {
      "image/png": "[encoded data removed]",
      "text/plain": [
       "<Figure size 640x480 with 2 Axes>"
      ]
     },
     "metadata": {},
     "output_type": "display_data"
    }
   ],
   "source": [
    "cm = confusion_matrix(y_test, y_pred)\n",
    "ConfusionMatrixDisplay(cm).plot()"
   ]
  },
  {
   "cell_type": "code",
   "execution_count": 42,
   "id": "6a54143a",
   "metadata": {},
   "outputs": [
    {
     "name": "stdout",
     "output_type": "stream",
     "text": [
      "AUC Score: 0.9998214989963728\n"
     ]
    }
   ],
   "source": [
    "from sklearn.metrics import roc_curve, roc_auc_score\n",
    "y_pred_proba = model_reg.best_estimator_.predict_proba(X_test)[:, 1] \n",
    "auc_score = roc_auc_score(y_test, y_pred_proba)\n",
    "print(\"AUC Score:\", auc_score)"
   ]
  },
  {
   "cell_type": "markdown",
   "id": "5fa43de8",
   "metadata": {},
   "source": [
    "### Fraud Prevention Measures During Infrastructure Updates\n",
    "- Enforce multi-factor authentication (MFA) for all internal tools.\n",
    "- Set transaction limits that adjust based on customer risk profiles.\n",
    "- Encrypt sensitive customer data.\n",
    "- Establish clear procedures for suspected fraud incidents.\n",
    "- Encrypt sensitive customer data.\n",
    "\n",
    "### Evaluating the Effectiveness of Fraud Prevention Measures\n",
    "- Track the total number of detected fraud cases per month.\n",
    "- Mesauring the fraud rate (% of fraudulent transactions) before and after the changes.\n",
    "- Monitor and Ensure that the system continues to catch most fraudulent cases.\n",
    "- Calculate monetary losses due to fraud before and after changes.\n",
    "- Collect feedback from customer service teams on fraud-related complaints."
   ]
  }
 ],
 "metadata": {
  "kernelspec": {
   "display_name": "Python 3 (ipykernel)",
   "language": "python",
   "name": "python3"
  },
  "language_info": {
   "codemirror_mode": {
    "name": "ipython",
    "version": 3
   },
   "file_extension": ".py",
   "mimetype": "text/x-python",
   "name": "python",
   "nbconvert_exporter": "python",
   "pygments_lexer": "ipython3",
   "version": "3.9.13"
  }
 },
 "nbformat": 4,
 "nbformat_minor": 5
}
